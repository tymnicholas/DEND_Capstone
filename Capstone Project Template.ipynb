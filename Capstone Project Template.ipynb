{
 "cells": [
  {
   "cell_type": "markdown",
   "metadata": {
    "editable": true
   },
   "source": [
    "# Project Title\n",
    "### Data Engineering Capstone Project\n",
    "\n",
    "#### Project Summary\n",
    "This project performs creates an ETL pipeline with the provided US i94 Immigration data together with the demographic data to be analysed and determine if trends and patterns can be analysed for different US cities.\n",
    "\n",
    "The project follows the follow steps:\n",
    "* Step 1: Scope the Project and Gather Data\n",
    "* Step 2: Explore and Assess the Data\n",
    "* Step 3: Define the Data Model\n",
    "* Step 4: Run ETL to Model the Data\n",
    "* Step 5: Complete Project Write Up"
   ]
  },
  {
   "cell_type": "code",
   "execution_count": 5,
   "metadata": {
    "editable": true
   },
   "outputs": [],
   "source": [
    "# Do all imports and installs here\n",
    "import pandas as pd\n",
    "from pyspark.sql.functions import first, col, upper, udf, date_format\n",
    "from pyspark.sql.types import StructType, StructField, IntegerType, StringType, TimestampType\n",
    "from pyspark.sql.functions import regexp_replace, trim\n",
    "from pyspark.sql.functions import year, month, dayofmonth, weekofyear, dayofweek\n",
    "from datetime import datetime, timedelta, date\n",
    "\n"
   ]
  },
  {
   "cell_type": "code",
   "execution_count": 6,
   "metadata": {
    "editable": true
   },
   "outputs": [],
   "source": [
    "\t\n",
    "\n",
    "from pyspark.sql import SparkSession\n",
    "spark = SparkSession.builder.\\\n",
    "config(\"spark.jars.packages\",\"saurfang:spark-sas7bdat:2.0.0-s_2.11\")\\\n",
    ".enableHiveSupport().getOrCreate()\n",
    "df_spark =spark.read.format('com.github.saurfang.sas.spark').load('../../data/18-83510-I94-Data-2016/i94_apr16_sub.sas7bdat')"
   ]
  },
  {
   "cell_type": "markdown",
   "metadata": {
    "editable": true
   },
   "source": [
    "### Step 1: Scope the Project and Gather Data\n",
    "\n",
    "#### Scope \n",
    "Create an ETL pipeline with the I94 immigration data and cities demographic data.\n",
    "\n",
    "#### Describe and Gather Data \n",
    "US Citites Demographic Data - A breakdown of the cities' demographics\n",
    "\n",
    "I94 Immigration Data - As per the I94 SAS Label Description.txt, removing fields which CIC do not use \n",
    "\n",
    "cit_res.txt - Id used in I94 to denote countries and countries (Extracted from I94 SAS Label Description.txt)\n",
    "\n",
    "mode.txt - Id used in I94 to denote mode of transport and the transportation used to enter the US (Extracted from I94 SAS Label Description.txt) \n",
    "\n",
    "port.txt - Id used in I94 to denote port of entry, port name and state (Extracted from I94 SAS Label Description.txt)\n",
    "\n",
    "visa.txt - Id used in I94 to denote the visa and the reason of entry into the US (Extracted from I94 SAS Label Description.txt) \n",
    "\n",
    "![Schema](./Capstone_Diagram.png)\n",
    "\n",
    "\n"
   ]
  },
  {
   "cell_type": "code",
   "execution_count": 7,
   "metadata": {
    "editable": true
   },
   "outputs": [
    {
     "data": {
      "text/plain": [
       "['City',\n",
       " 'State',\n",
       " 'Median Age',\n",
       " 'Male Population',\n",
       " 'Female Population',\n",
       " 'Total Population',\n",
       " 'Number of Veterans',\n",
       " 'Foreign-born',\n",
       " 'Average Household Size',\n",
       " 'State Code',\n",
       " 'Race',\n",
       " 'Count']"
      ]
     },
     "execution_count": 7,
     "metadata": {},
     "output_type": "execute_result"
    }
   ],
   "source": [
    "# Read in the data here\n",
    "us_city_demographics=spark.read.csv(\"./us-cities-demographics.csv\", sep=';', header=True)\n",
    "\n",
    "# Display dataset columns\n",
    "us_city_demographics.columns\n"
   ]
  },
  {
   "cell_type": "code",
   "execution_count": 8,
   "metadata": {
    "editable": true
   },
   "outputs": [
    {
     "name": "stdout",
     "output_type": "stream",
     "text": [
      "+----------------+--------------+----------+---------------+-----------------+----------------+------------------+------------+----------------------+----------+--------------------+------+\n",
      "|            City|         State|Median Age|Male Population|Female Population|Total Population|Number of Veterans|Foreign-born|Average Household Size|State Code|                Race| Count|\n",
      "+----------------+--------------+----------+---------------+-----------------+----------------+------------------+------------+----------------------+----------+--------------------+------+\n",
      "|   Silver Spring|      Maryland|      33.8|          40601|            41862|           82463|              1562|       30908|                   2.6|        MD|  Hispanic or Latino| 25924|\n",
      "|          Quincy| Massachusetts|      41.0|          44129|            49500|           93629|              4147|       32935|                  2.39|        MA|               White| 58723|\n",
      "|          Hoover|       Alabama|      38.5|          38040|            46799|           84839|              4819|        8229|                  2.58|        AL|               Asian|  4759|\n",
      "|Rancho Cucamonga|    California|      34.5|          88127|            87105|          175232|              5821|       33878|                  3.18|        CA|Black or African-...| 24437|\n",
      "|          Newark|    New Jersey|      34.6|         138040|           143873|          281913|              5829|       86253|                  2.73|        NJ|               White| 76402|\n",
      "|          Peoria|      Illinois|      33.1|          56229|            62432|          118661|              6634|        7517|                   2.4|        IL|American Indian a...|  1343|\n",
      "|        Avondale|       Arizona|      29.1|          38712|            41971|           80683|              4815|        8355|                  3.18|        AZ|Black or African-...| 11592|\n",
      "|     West Covina|    California|      39.8|          51629|            56860|          108489|              3800|       37038|                  3.56|        CA|               Asian| 32716|\n",
      "|        O'Fallon|      Missouri|      36.0|          41762|            43270|           85032|              5783|        3269|                  2.77|        MO|  Hispanic or Latino|  2583|\n",
      "|      High Point|North Carolina|      35.5|          51751|            58077|          109828|              5204|       16315|                  2.65|        NC|               Asian| 11060|\n",
      "|          Folsom|    California|      40.9|          41051|            35317|           76368|              4187|       13234|                  2.62|        CA|  Hispanic or Latino|  5822|\n",
      "|          Folsom|    California|      40.9|          41051|            35317|           76368|              4187|       13234|                  2.62|        CA|American Indian a...|   998|\n",
      "|    Philadelphia|  Pennsylvania|      34.1|         741270|           826172|         1567442|             61995|      205339|                  2.61|        PA|               Asian|122721|\n",
      "|         Wichita|        Kansas|      34.6|         192354|           197601|          389955|             23978|       40270|                  2.56|        KS|  Hispanic or Latino| 65162|\n",
      "|         Wichita|        Kansas|      34.6|         192354|           197601|          389955|             23978|       40270|                  2.56|        KS|American Indian a...|  8791|\n",
      "|      Fort Myers|       Florida|      37.3|          36850|            37165|           74015|              4312|       15365|                  2.45|        FL|               White| 50169|\n",
      "|      Pittsburgh|  Pennsylvania|      32.9|         149690|           154695|          304385|             17728|       28187|                  2.13|        PA|               White|208863|\n",
      "|          Laredo|         Texas|      28.8|         124305|           131484|          255789|              4921|       68427|                  3.66|        TX|American Indian a...|  1253|\n",
      "|        Berkeley|    California|      32.5|          60142|            60829|          120971|              3736|       25000|                  2.35|        CA|               Asian| 27089|\n",
      "|     Santa Clara|    California|      35.2|          63278|            62938|          126216|              4426|       52281|                  2.75|        CA|               White| 55847|\n",
      "+----------------+--------------+----------+---------------+-----------------+----------------+------------------+------------+----------------------+----------+--------------------+------+\n",
      "only showing top 20 rows\n",
      "\n",
      "+--------------+----------+---------------------------------+-----+-------------------------+------------------+------+\n",
      "|          City|State Code|American Indian and Alaska Native|Asian|Black or African-American|Hispanic or Latino| White|\n",
      "+--------------+----------+---------------------------------+-----+-------------------------+------------------+------+\n",
      "|     Asheville|        NC|                              496| 1939|                     9078|              4146| 77979|\n",
      "|          Mesa|        AZ|                            16044|14608|                    22699|            131425|413010|\n",
      "|       Norwalk|        CA|                             1165|16189|                     5195|             76020| 46998|\n",
      "|        Arvada|        CO|                             2370| 2922|                     2985|             16419|107639|\n",
      "|   Minneapolis|        MN|                             9238|33854|                    89996|             39981|277862|\n",
      "|Mount Pleasant|        SC|                             null| 1827|                     3730|              2569| 75908|\n",
      "| Mountain View|        CA|                              577|23884|                     1974|             16397| 51400|\n",
      "|      Waukegan|        IL|                              677| 4933|                    11697|             54214| 65629|\n",
      "|       Deltona|        FL|                              651| 1292|                    12056|             31357| 75686|\n",
      "|       Fontana|        CA|                             2656|14281|                    16986|            156134| 85044|\n",
      "+--------------+----------+---------------------------------+-----+-------------------------+------------------+------+\n",
      "only showing top 10 rows\n",
      "\n"
     ]
    }
   ],
   "source": [
    "# From the above data, only race and count has different data based on the state.\n",
    "# Normalise us_city_demographics with Spark's pivot on Race to set Race as columns and Count as record row values\n",
    "us_city_demographics.show(20)\n",
    "us_race_count = (us_city_demographics.select(\"City\",\"State Code\",\"Race\",\"Count\")\n",
    "    .groupby(\"City\", \"State Code\")\n",
    "    .pivot(\"Race\")\n",
    "    .agg(first(\"Count\")))\n",
    "\n",
    "us_race_count.show(10)"
   ]
  },
  {
   "cell_type": "code",
   "execution_count": 9,
   "metadata": {
    "editable": true
   },
   "outputs": [
    {
     "data": {
      "text/plain": [
       "(2891, 596)"
      ]
     },
     "execution_count": 9,
     "metadata": {},
     "output_type": "execute_result"
    }
   ],
   "source": [
    "# Remove extracted Race and Count from us_city_demographics columns and check for duplicates\n",
    "columns_to_drop = ['Race', 'Count']\n",
    "us_city_demographics = us_city_demographics.drop(*columns_to_drop)\n",
    "us_city_demographics.count(), us_city_demographics.dropDuplicates().count()"
   ]
  },
  {
   "cell_type": "code",
   "execution_count": 10,
   "metadata": {
    "editable": true
   },
   "outputs": [
    {
     "name": "stdout",
     "output_type": "stream",
     "text": [
      "+---------------+-----------+----------+---------------+-----------------+----------------+------------------+------------+----------------------+----------+\n",
      "|           City|      State|Median Age|Male Population|Female Population|Total Population|Number of Veterans|Foreign-born|Average Household Size|State Code|\n",
      "+---------------+-----------+----------+---------------+-----------------+----------------+------------------+------------+----------------------+----------+\n",
      "|   Johnson City|  Tennessee|      38.2|          31019|            34350|           65369|              5038|        2878|                  2.18|        TN|\n",
      "|   San Clemente| California|      45.2|          34076|            31456|           65532|              3970|        8109|                  2.64|        CA|\n",
      "|   Redwood City| California|      37.1|          42676|            42624|           85300|              2430|       27652|                  2.64|        CA|\n",
      "|     Fort Myers|    Florida|      37.3|          36850|            37165|           74015|              4312|       15365|                  2.45|        FL|\n",
      "|         Caguas|Puerto Rico|      40.4|          34743|            42265|           77008|              null|        null|                  null|        PR|\n",
      "|West Palm Beach|    Florida|      39.6|          49262|            57520|          106782|              4917|       30675|                  2.53|        FL|\n",
      "|      San Diego| California|      34.5|         693826|           701081|         1394907|             92489|      373842|                  2.73|        CA|\n",
      "|         German|   Maryland|      34.9|          41115|            43007|           84122|              2443|       27877|                  2.95|        MD|\n",
      "|          Pharr|      Texas|      26.9|          35242|            41293|           76535|              1376|       25532|                  3.67|        TX|\n",
      "|      Harlingen|      Texas|      30.1|          32404|            33365|           65769|              2761|       10391|                   3.0|        TX|\n",
      "+---------------+-----------+----------+---------------+-----------------+----------------+------------------+------------+----------------------+----------+\n",
      "only showing top 10 rows\n",
      "\n"
     ]
    }
   ],
   "source": [
    "#remove duplicates\n",
    "us_city_demographics = us_city_demographics.dropDuplicates()\n",
    "us_city_demographics.show(10)"
   ]
  },
  {
   "cell_type": "code",
   "execution_count": 11,
   "metadata": {
    "editable": true
   },
   "outputs": [
    {
     "name": "stdout",
     "output_type": "stream",
     "text": [
      "+---------------+----------+--------------+----------+---------------+-----------------+----------------+------------------+------------+----------------------+---------------------------------+------+-------------------------+------------------+-------+\n",
      "|           City|State Code|         State|Median Age|Male Population|Female Population|Total Population|Number of Veterans|Foreign-born|Average Household Size|American Indian and Alaska Native| Asian|Black or African-American|Hispanic or Latino|  White|\n",
      "+---------------+----------+--------------+----------+---------------+-----------------+----------------+------------------+------------+----------------------+---------------------------------+------+-------------------------+------------------+-------+\n",
      "|   Johnson City|        TN|     Tennessee|      38.2|          31019|            34350|           65369|              5038|        2878|                  2.18|                              400|  1877|                     6016|              1114|  59147|\n",
      "|   San Clemente|        CA|    California|      45.2|          34076|            31456|           65532|              3970|        8109|                  2.64|                             null|  4296|                      251|             10421|  58849|\n",
      "|   Redwood City|        CA|    California|      37.1|          42676|            42624|           85300|              2430|       27652|                  2.64|                              664| 14873|                     2758|             29011|  51019|\n",
      "|     Fort Myers|        FL|       Florida|      37.3|          36850|            37165|           74015|              4312|       15365|                  2.45|                             null|  3519|                    17298|             17866|  50169|\n",
      "|         Caguas|        PR|   Puerto Rico|      40.4|          34743|            42265|           77008|              null|        null|                  null|                              624|  null|                     null|             76349|   null|\n",
      "|West Palm Beach|        FL|       Florida|      39.6|          49262|            57520|          106782|              4917|       30675|                  2.53|                              406|  3191|                    39226|             26132|  60648|\n",
      "|      San Diego|        CA|    California|      34.5|         693826|           701081|         1394907|             92489|      373842|                  2.73|                            16496|267222|                   111650|            425414| 949388|\n",
      "|         German|        MD|      Maryland|      34.9|          41115|            43007|           84122|              2443|       27877|                  2.95|                             1232| 15921|                    22273|             18202|  43330|\n",
      "|          Pharr|        TX|         Texas|      26.9|          35242|            41293|           76535|              1376|       25532|                  3.67|                             null|  null|                      204|             72995|  73694|\n",
      "|      Harlingen|        TX|         Texas|      30.1|          32404|            33365|           65769|              2761|       10391|                   3.0|                             null|  2166|                     null|             51727|  61844|\n",
      "|     Palm Coast|        FL|       Florida|      48.8|          39489|            42632|           82121|              7950|        9084|                  2.76|                              700|  2479|                    10786|              8706|  67272|\n",
      "|       Bismarck|        ND|  North Dakota|      38.0|          34675|            35565|           70240|              4145|        2064|                  2.11|                             4040|   930|                     1700|              1667|  64719|\n",
      "|      Asheville|        NC|North Carolina|      37.9|          42100|            46407|           88507|              4973|        6630|                  2.18|                              496|  1939|                     9078|              4146|  77979|\n",
      "|    San Antonio|        TX|         Texas|      33.1|         721405|           748419|         1469824|            109089|      208046|                  2.93|                            20752| 53933|                   119542|            937607|1240092|\n",
      "|       Hesperia|        CA|    California|      29.4|          43588|            49698|           93286|              3739|       16667|                  3.52|                             1712|  2131|                     4889|             53765|  78718|\n",
      "|     Alexandria|        VA|      Virginia|      36.6|          74989|            78522|          153511|             10635|       44030|                   2.2|                             1133| 13315|                    37168|             25573| 106215|\n",
      "|     Wilmington|        DE|      Delaware|      36.4|          32680|            39277|           71957|              3063|        3336|                  2.45|                              414|  1193|                    44182|              5516|  23743|\n",
      "|       Plymouth|        MN|     Minnesota|      38.4|          39035|            36893|           75928|              4158|        8830|                  2.46|                              760|  5561|                     6938|              3274|  63872|\n",
      "|  Santa Clarita|        CA|    California|      38.1|          90192|            92175|          182367|              8537|       40666|                  3.02|                             4441| 23168|                     9223|             56944| 144949|\n",
      "|       Rockford|        IL|      Illinois|      36.3|          71076|            78270|          149346|              8894|       18323|                  2.52|                             2301|  5500|                    33122|             28923| 107148|\n",
      "+---------------+----------+--------------+----------+---------------+-----------------+----------------+------------------+------------+----------------------+---------------------------------+------+-------------------------+------------------+-------+\n",
      "only showing top 20 rows\n",
      "\n"
     ]
    }
   ],
   "source": [
    "# Combine dataframes on City, StateCode \n",
    "us_df = us_city_demographics.join(us_race_count, [\"City\", \"State Code\"])\n",
    "\n",
    "us_df.show()"
   ]
  },
  {
   "cell_type": "code",
   "execution_count": 12,
   "metadata": {
    "editable": true
   },
   "outputs": [
    {
     "name": "stdout",
     "output_type": "stream",
     "text": [
      "+------------+------------+----------+---------------+-----------------+----------------+------------------+------------+----------------------+----------+\n",
      "|        City|       State|Median Age|Male Population|Female Population|Total Population|Number of Veterans|Foreign-born|Average Household Size|State Code|\n",
      "+------------+------------+----------+---------------+-----------------+----------------+------------------+------------+----------------------+----------+\n",
      "|     Abilene|       Texas|      31.3|          65212|            60664|          125876|              9367|        8129|                  2.64|        TX|\n",
      "|       Akron|        Ohio|      38.1|          96886|           100667|          197553|             12878|       10024|                  2.24|        OH|\n",
      "|     Alafaya|     Florida|      33.5|          39504|            45760|           85264|              4176|       15842|                  2.94|        FL|\n",
      "|     Alameda|  California|      41.4|          37747|            40867|           78614|              4504|       18841|                  2.52|        CA|\n",
      "|      Albany|     Georgia|      33.3|          31695|            39414|           71109|              5409|         861|                  2.38|        GA|\n",
      "|      Albany|    New York|      32.8|          47627|            50825|           98452|              3643|       11948|                  2.08|        NY|\n",
      "| Albuquerque|  New Mexico|      36.0|         273323|           285808|          559131|             37443|       58200|                  2.49|        NM|\n",
      "|  Alexandria|    Virginia|      36.6|          74989|            78522|          153511|             10635|       44030|                   2.2|        VA|\n",
      "|    Alhambra|  California|      41.0|          42184|            43388|           85572|              1673|       44441|                  2.89|        CA|\n",
      "|       Allen|       Texas|      37.2|          51324|            46814|           98138|              3505|       19649|                  3.04|        TX|\n",
      "|       Allen|Pennsylvania|      33.5|          60626|            59581|          120207|              5691|       19652|                  2.67|        PA|\n",
      "|    Amarillo|       Texas|      33.8|          99391|           100260|          199651|             11008|       21124|                  2.64|        TX|\n",
      "|        Ames|        Iowa|      23.0|          33814|            31238|           65052|              2265|        8606|                  2.16|        IA|\n",
      "|     Anaheim|  California|      33.6|         179603|           171135|          350738|              9796|      137133|                  3.45|        CA|\n",
      "|   Anchorage|      Alaska|      32.2|         152945|           145750|          298695|             27492|       33258|                  2.77|        AK|\n",
      "|   Ann Arbor|    Michigan|      28.1|          58789|            58281|          117070|              3614|       20717|                  2.17|        MI|\n",
      "|     Antioch|  California|      34.0|          54733|            55809|          110542|              5681|       24942|                  3.31|        CA|\n",
      "|Apple Valley|  California|      34.3|          32873|            39312|           72185|              5714|        5801|                  3.03|        CA|\n",
      "|    Appleton|   Wisconsin|      35.6|          37217|            38038|           75255|              4219|        4454|                  2.49|        WI|\n",
      "|Arden-Arcade|  California|      41.5|          47596|            48680|           96276|              6511|       13458|                  2.18|        CA|\n",
      "+------------+------------+----------+---------------+-----------------+----------------+------------------+------------+----------------------+----------+\n",
      "only showing top 20 rows\n",
      "\n"
     ]
    }
   ],
   "source": [
    "# Display data\n",
    "us_city_demographics.orderBy(\"city\").show(20)"
   ]
  },
  {
   "cell_type": "code",
   "execution_count": 13,
   "metadata": {
    "editable": true
   },
   "outputs": [
    {
     "name": "stdout",
     "output_type": "stream",
     "text": [
      "+---------------+----------+--------------+----------+---------------+-----------------+----------------+------------------+------------+----------------------+---------------------------------+------+-------------------------+------------------+-------+\n",
      "|           City|State Code|         State|Median Age|Male Population|Female Population|Total Population|Number of Veterans|Foreign-born|Average Household Size|American Indian and Alaska Native| Asian|Black or African-American|Hispanic or Latino|  White|\n",
      "+---------------+----------+--------------+----------+---------------+-----------------+----------------+------------------+------------+----------------------+---------------------------------+------+-------------------------+------------------+-------+\n",
      "|   Johnson City|        TN|     Tennessee|      38.2|          31019|            34350|           65369|              5038|        2878|                  2.18|                              400|  1877|                     6016|              1114|  59147|\n",
      "|   San Clemente|        CA|    California|      45.2|          34076|            31456|           65532|              3970|        8109|                  2.64|                             null|  4296|                      251|             10421|  58849|\n",
      "|   Redwood City|        CA|    California|      37.1|          42676|            42624|           85300|              2430|       27652|                  2.64|                              664| 14873|                     2758|             29011|  51019|\n",
      "|     Fort Myers|        FL|       Florida|      37.3|          36850|            37165|           74015|              4312|       15365|                  2.45|                             null|  3519|                    17298|             17866|  50169|\n",
      "|         Caguas|        PR|   Puerto Rico|      40.4|          34743|            42265|           77008|              null|        null|                  null|                              624|  null|                     null|             76349|   null|\n",
      "|West Palm Beach|        FL|       Florida|      39.6|          49262|            57520|          106782|              4917|       30675|                  2.53|                              406|  3191|                    39226|             26132|  60648|\n",
      "|      San Diego|        CA|    California|      34.5|         693826|           701081|         1394907|             92489|      373842|                  2.73|                            16496|267222|                   111650|            425414| 949388|\n",
      "|         German|        MD|      Maryland|      34.9|          41115|            43007|           84122|              2443|       27877|                  2.95|                             1232| 15921|                    22273|             18202|  43330|\n",
      "|          Pharr|        TX|         Texas|      26.9|          35242|            41293|           76535|              1376|       25532|                  3.67|                             null|  null|                      204|             72995|  73694|\n",
      "|      Harlingen|        TX|         Texas|      30.1|          32404|            33365|           65769|              2761|       10391|                   3.0|                             null|  2166|                     null|             51727|  61844|\n",
      "|     Palm Coast|        FL|       Florida|      48.8|          39489|            42632|           82121|              7950|        9084|                  2.76|                              700|  2479|                    10786|              8706|  67272|\n",
      "|       Bismarck|        ND|  North Dakota|      38.0|          34675|            35565|           70240|              4145|        2064|                  2.11|                             4040|   930|                     1700|              1667|  64719|\n",
      "|      Asheville|        NC|North Carolina|      37.9|          42100|            46407|           88507|              4973|        6630|                  2.18|                              496|  1939|                     9078|              4146|  77979|\n",
      "|    San Antonio|        TX|         Texas|      33.1|         721405|           748419|         1469824|            109089|      208046|                  2.93|                            20752| 53933|                   119542|            937607|1240092|\n",
      "|       Hesperia|        CA|    California|      29.4|          43588|            49698|           93286|              3739|       16667|                  3.52|                             1712|  2131|                     4889|             53765|  78718|\n",
      "|     Alexandria|        VA|      Virginia|      36.6|          74989|            78522|          153511|             10635|       44030|                   2.2|                             1133| 13315|                    37168|             25573| 106215|\n",
      "|     Wilmington|        DE|      Delaware|      36.4|          32680|            39277|           71957|              3063|        3336|                  2.45|                              414|  1193|                    44182|              5516|  23743|\n",
      "|       Plymouth|        MN|     Minnesota|      38.4|          39035|            36893|           75928|              4158|        8830|                  2.46|                              760|  5561|                     6938|              3274|  63872|\n",
      "|  Santa Clarita|        CA|    California|      38.1|          90192|            92175|          182367|              8537|       40666|                  3.02|                             4441| 23168|                     9223|             56944| 144949|\n",
      "|       Rockford|        IL|      Illinois|      36.3|          71076|            78270|          149346|              8894|       18323|                  2.52|                             2301|  5500|                    33122|             28923| 107148|\n",
      "+---------------+----------+--------------+----------+---------------+-----------------+----------------+------------------+------------+----------------------+---------------------------------+------+-------------------------+------------------+-------+\n",
      "only showing top 20 rows\n",
      "\n"
     ]
    }
   ],
   "source": [
    "# Combine dataframes on City, StateCode \n",
    "us_df = us_city_demographics.join(us_race_count, [\"City\", \"State Code\"])\n",
    "\n",
    "us_df.show()"
   ]
  },
  {
   "cell_type": "code",
   "execution_count": 14,
   "metadata": {
    "editable": true
   },
   "outputs": [
    {
     "data": {
      "text/plain": [
       "['city',\n",
       " 'state_code',\n",
       " 'state',\n",
       " 'median_age',\n",
       " 'male_population',\n",
       " 'female_population',\n",
       " 'total_population',\n",
       " 'veterans',\n",
       " 'foreign_born',\n",
       " 'avg_household_size',\n",
       " 'natives',\n",
       " 'asian',\n",
       " 'black',\n",
       " 'hispanic',\n",
       " 'white']"
      ]
     },
     "execution_count": 14,
     "metadata": {},
     "output_type": "execute_result"
    }
   ],
   "source": [
    "# Remove column spaces and \"-\" and change to lower case before writing to parquet for compatibility\n",
    "us_df = us_df.select(\n",
    "    col(\"City\").alias(\"city\"),\n",
    "    col(\"State Code\").alias(\"state_code\"),\n",
    "    col(\"State\").alias(\"state\"),\n",
    "    col(\"Median Age\").alias(\"median_age\"),\n",
    "    col(\"Male Population\").alias(\"male_population\"),\n",
    "    col(\"Female Population\").alias(\"female_population\"),\n",
    "    col(\"Total Population\").alias(\"total_population\"),\n",
    "    col(\"Number of Veterans\").alias(\"veterans\"),\n",
    "    col(\"Foreign-born\").alias(\"foreign_born\"),\n",
    "    col(\"Average Household Size\").alias(\"avg_household_size\"),\n",
    "    col(\"American Indian and Alaska Native\").alias(\"natives\"),\n",
    "    col(\"Asian\").alias(\"asian\"),\n",
    "    col(\"Black or African-American\").alias(\"black\"),\n",
    "    col(\"Hispanic or Latino\").alias(\"hispanic\"),\n",
    "    col(\"White\").alias(\"white\"),\n",
    ")\n",
    "\n",
    "us_df.columns\n",
    "\n"
   ]
  },
  {
   "cell_type": "code",
   "execution_count": 15,
   "metadata": {
    "editable": true
   },
   "outputs": [],
   "source": [
    "# write to parquet\n",
    "us_df.write.mode('overwrite').parquet(\"./data/us_city_demographics.parquet\")\n"
   ]
  },
  {
   "cell_type": "code",
   "execution_count": 16,
   "metadata": {
    "editable": true
   },
   "outputs": [
    {
     "name": "stdout",
     "output_type": "stream",
     "text": [
      "+-------+---------------+\n",
      "|mode_id|      mode_type|\n",
      "+-------+---------------+\n",
      "|     1 |          'Air'|\n",
      "|     2 |          'Sea'|\n",
      "|     3 |         'Land'|\n",
      "|     9 | 'Not reported'|\n",
      "+-------+---------------+\n",
      "\n"
     ]
    }
   ],
   "source": [
    "# Mode file\n",
    "\n",
    "# define schema\n",
    "mode_schema = StructType([\n",
    "    StructField(\"mode_id\", StringType(), True),\n",
    "    StructField(\"mode_type\", StringType(), True)])\n",
    "mode_df=spark.read.csv(\"./mode.txt\", sep='=', header=False, schema=mode_schema)\n",
    "mode_df.show()"
   ]
  },
  {
   "cell_type": "code",
   "execution_count": 17,
   "metadata": {
    "editable": true
   },
   "outputs": [
    {
     "name": "stdout",
     "output_type": "stream",
     "text": [
      "+-------+------------+\n",
      "|mode_id|   mode_type|\n",
      "+-------+------------+\n",
      "|      1|         Air|\n",
      "|      2|         Sea|\n",
      "|      3|        Land|\n",
      "|      9|Not reported|\n",
      "+-------+------------+\n",
      "\n"
     ]
    }
   ],
   "source": [
    "mode_df = mode_df.withColumn(\"mode_id\", trim(regexp_replace(\"mode_id\",\"[']\",'')))\\\n",
    "                    .withColumn(\"mode_type\", trim(regexp_replace(\"mode_type\",\"[']\",'')))\n",
    "mode_df.show()"
   ]
  },
  {
   "cell_type": "code",
   "execution_count": 18,
   "metadata": {
    "editable": true
   },
   "outputs": [],
   "source": [
    "# write to parquet\n",
    "mode_df.write.mode(\"overwrite\").parquet(\"./data/mode.parquet\")"
   ]
  },
  {
   "cell_type": "code",
   "execution_count": 19,
   "metadata": {
    "editable": true
   },
   "outputs": [
    {
     "name": "stdout",
     "output_type": "stream",
     "text": [
      "+----------+--------------------+\n",
      "|cit_res_id|             country|\n",
      "+----------+--------------------+\n",
      "|      582 |  'MEXICO Air Sea...|\n",
      "|      236 |       'AFGHANISTAN'|\n",
      "|      101 |           'ALBANIA'|\n",
      "|      316 |           'ALGERIA'|\n",
      "|      102 |           'ANDORRA'|\n",
      "|      324 |            'ANGOLA'|\n",
      "|      529 |          'ANGUILLA'|\n",
      "|      518 |   'ANTIGUA-BARBUDA'|\n",
      "|      687 |        'ARGENTINA '|\n",
      "|      151 |           'ARMENIA'|\n",
      "+----------+--------------------+\n",
      "only showing top 10 rows\n",
      "\n"
     ]
    }
   ],
   "source": [
    "# Cit_Res file\n",
    "# define schema\n",
    "cit_res_schema = StructType([\n",
    "    StructField(\"cit_res_id\", StringType(), True),\n",
    "    StructField(\"country\", StringType(), True)])\n",
    "cit_res_df=spark.read.csv(\"./cit_res.txt\", sep='=', header=False, schema=cit_res_schema)\n",
    "cit_res_df.show(10)"
   ]
  },
  {
   "cell_type": "code",
   "execution_count": 20,
   "metadata": {
    "editable": true
   },
   "outputs": [
    {
     "name": "stdout",
     "output_type": "stream",
     "text": [
      "+----------+--------------------+\n",
      "|cit_res_id|             country|\n",
      "+----------+--------------------+\n",
      "|       582|MEXICO Air Sea, a...|\n",
      "|       236|         AFGHANISTAN|\n",
      "|       101|             ALBANIA|\n",
      "|       316|             ALGERIA|\n",
      "|       102|             ANDORRA|\n",
      "|       324|              ANGOLA|\n",
      "|       529|            ANGUILLA|\n",
      "|       518|     ANTIGUA-BARBUDA|\n",
      "|       687|           ARGENTINA|\n",
      "|       151|             ARMENIA|\n",
      "+----------+--------------------+\n",
      "only showing top 10 rows\n",
      "\n"
     ]
    }
   ],
   "source": [
    "cit_res_df = cit_res_df.withColumn(\"cit_res_id\", trim(regexp_replace(\"cit_res_id\",\"[']\",'')))\\\n",
    "                        .withColumn(\"country\", trim(regexp_replace(\"country\",\"[']\",'')))\n",
    "cit_res_df.show(10)"
   ]
  },
  {
   "cell_type": "code",
   "execution_count": 21,
   "metadata": {
    "editable": true
   },
   "outputs": [],
   "source": [
    "# write to parquet\n",
    "mode_df.write.mode(\"overwrite\").parquet(\"./data/cit_res.parquet\")"
   ]
  },
  {
   "cell_type": "code",
   "execution_count": 22,
   "metadata": {
    "editable": true
   },
   "outputs": [
    {
     "name": "stdout",
     "output_type": "stream",
     "text": [
      "+-------+--------------------+--------------------+\n",
      "|port_id|           port_city|          port_state|\n",
      "+-------+--------------------+--------------------+\n",
      "|    ALC|               ALCAN|     AK             |\n",
      "|    ANC|           ANCHORAGE|         AK         |\n",
      "|    BAR|BAKER AAF - BAKER...|                  AK|\n",
      "|    DAC|       DALTONS CACHE|             AK     |\n",
      "|    PIZ|DEW STATION PT LA...|                  AK|\n",
      "|    DTH|        DUTCH HARBOR|            AK      |\n",
      "|    EGL|               EAGLE|     AK             |\n",
      "|    FRB|           FAIRBANKS|         AK         |\n",
      "|    HOM|               HOMER| AK              ...|\n",
      "|    HYD|               HYDER|     AK             |\n",
      "+-------+--------------------+--------------------+\n",
      "only showing top 10 rows\n",
      "\n"
     ]
    }
   ],
   "source": [
    "# Port file, manual cleaning of text file to separate city, state, and \"'\"\n",
    "# define schema\n",
    "port_schema = StructType([\n",
    "    StructField(\"port_id\", StringType(), True),\n",
    "    StructField(\"port_city\", StringType(), True),\n",
    "    StructField(\"port_state\", StringType(), True)])\n",
    "port_df=spark.read.csv(\"./port.txt\", sep='=', header=False, schema=port_schema)\n",
    "port_df.show(10)"
   ]
  },
  {
   "cell_type": "code",
   "execution_count": 23,
   "metadata": {
    "editable": true
   },
   "outputs": [
    {
     "name": "stdout",
     "output_type": "stream",
     "text": [
      "+-------+--------------------+----------+\n",
      "|port_id|           port_city|port_state|\n",
      "+-------+--------------------+----------+\n",
      "|    ALC|               ALCAN|        AK|\n",
      "|    ANC|           ANCHORAGE|        AK|\n",
      "|    BAR|BAKER AAF - BAKER...|        AK|\n",
      "|    DAC|       DALTONS CACHE|        AK|\n",
      "|    PIZ|DEW STATION PT LA...|        AK|\n",
      "|    DTH|        DUTCH HARBOR|        AK|\n",
      "|    EGL|               EAGLE|        AK|\n",
      "|    FRB|           FAIRBANKS|        AK|\n",
      "|    HOM|               HOMER|        AK|\n",
      "|    HYD|               HYDER|        AK|\n",
      "+-------+--------------------+----------+\n",
      "only showing top 10 rows\n",
      "\n"
     ]
    }
   ],
   "source": [
    "port_df = port_df.withColumn(\"port_id\", trim(regexp_replace(\"port_id\",\"[']\",''))) \\\n",
    "                 .withColumn(\"port_city\", trim(regexp_replace(\"port_city\",\"[']\",'')))\\\n",
    "                 .withColumn(\"port_state\", trim(regexp_replace(\"port_state\",\"[']\",'')))\n",
    "port_df.show(10)"
   ]
  },
  {
   "cell_type": "code",
   "execution_count": 24,
   "metadata": {
    "editable": true
   },
   "outputs": [],
   "source": [
    "# write to parquet\n",
    "port_df.write.mode(\"overwrite\").parquet(\"./data/port.parquet\")"
   ]
  },
  {
   "cell_type": "code",
   "execution_count": 25,
   "metadata": {
    "editable": true
   },
   "outputs": [
    {
     "name": "stdout",
     "output_type": "stream",
     "text": [
      "+-------+---------+\n",
      "|visa_id|visa_type|\n",
      "+-------+---------+\n",
      "|     1 | Business|\n",
      "|     2 | Pleasure|\n",
      "|     3 |  Student|\n",
      "+-------+---------+\n",
      "\n"
     ]
    }
   ],
   "source": [
    "# Visa file\n",
    "# define schema\n",
    "visa_schema = StructType([\n",
    "    StructField(\"visa_id\", StringType(), True),\n",
    "    StructField(\"visa_type\", StringType(), True)])\n",
    "visa_df=spark.read.csv(\"./visa.txt\", sep='=', header=False, schema=visa_schema)\n",
    "visa_df.show()"
   ]
  },
  {
   "cell_type": "code",
   "execution_count": 26,
   "metadata": {
    "editable": true
   },
   "outputs": [
    {
     "name": "stdout",
     "output_type": "stream",
     "text": [
      "+-------+---------+\n",
      "|visa_id|visa_type|\n",
      "+-------+---------+\n",
      "|      1| Business|\n",
      "|      2| Pleasure|\n",
      "|      3|  Student|\n",
      "+-------+---------+\n",
      "\n"
     ]
    }
   ],
   "source": [
    "visa_df = visa_df.withColumn(\"visa_id\", trim(regexp_replace(\"visa_id\",\"[']\",''))) \\\n",
    "                 .withColumn(\"visa_type\", trim(regexp_replace(\"visa_type\",\"[']\",'')))\n",
    "visa_df.show()"
   ]
  },
  {
   "cell_type": "code",
   "execution_count": 27,
   "metadata": {
    "editable": true
   },
   "outputs": [],
   "source": [
    "# write to parquet\n",
    "visa_df.write.mode(\"overwrite\").parquet(\"./data/visa.parquet\")"
   ]
  },
  {
   "cell_type": "code",
   "execution_count": 28,
   "metadata": {
    "editable": true
   },
   "outputs": [
    {
     "data": {
      "text/plain": [
       "['cicid',\n",
       " 'i94yr',\n",
       " 'i94mon',\n",
       " 'i94cit',\n",
       " 'i94res',\n",
       " 'i94port',\n",
       " 'arrdate',\n",
       " 'i94mode',\n",
       " 'i94addr',\n",
       " 'depdate',\n",
       " 'i94bir',\n",
       " 'i94visa',\n",
       " 'count',\n",
       " 'dtadfile',\n",
       " 'visapost',\n",
       " 'occup',\n",
       " 'entdepa',\n",
       " 'entdepd',\n",
       " 'entdepu',\n",
       " 'matflag',\n",
       " 'biryear',\n",
       " 'dtaddto',\n",
       " 'gender',\n",
       " 'insnum',\n",
       " 'airline',\n",
       " 'admnum',\n",
       " 'fltno',\n",
       " 'visatype']"
      ]
     },
     "execution_count": 28,
     "metadata": {},
     "output_type": "execute_result"
    }
   ],
   "source": [
    "# Read in the immigration data here\n",
    "immigration_data_sample=spark.read.parquet(\"sas_data\")\n",
    "\n",
    "# Display dataset columns\n",
    "immigration_data_sample.columns\n",
    "\n"
   ]
  },
  {
   "cell_type": "markdown",
   "metadata": {
    "editable": true
   },
   "source": [
    "### Step 2: Explore and Assess the Data\n",
    "#### Explore the Data \n",
    "Identify data quality issues, like missing values, duplicate data, etc.\n",
    "\n",
    "#### Cleaning Steps\n",
    "Document steps necessary to clean the data"
   ]
  },
  {
   "cell_type": "code",
   "execution_count": 29,
   "metadata": {
    "editable": true
   },
   "outputs": [
    {
     "name": "stdout",
     "output_type": "stream",
     "text": [
      "+---------+------+------+------+------+-------+-------+-------+-------+-------+------+-------+-----+--------+--------+-----+-------+-------+-------+-------+-------+--------+------+------+-------+--------------+-----+--------+\n",
      "|    cicid| i94yr|i94mon|i94cit|i94res|i94port|arrdate|i94mode|i94addr|depdate|i94bir|i94visa|count|dtadfile|visapost|occup|entdepa|entdepd|entdepu|matflag|biryear| dtaddto|gender|insnum|airline|        admnum|fltno|visatype|\n",
      "+---------+------+------+------+------+-------+-------+-------+-------+-------+------+-------+-----+--------+--------+-----+-------+-------+-------+-------+-------+--------+------+------+-------+--------------+-----+--------+\n",
      "|5748517.0|2016.0|   4.0| 245.0| 438.0|    LOS|20574.0|    1.0|     CA|20582.0|  40.0|    1.0|  1.0|20160430|     SYD| null|      G|      O|   null|      M| 1976.0|10292016|     F|  null|     QF|9.495387003E10|00011|      B1|\n",
      "|5748518.0|2016.0|   4.0| 245.0| 438.0|    LOS|20574.0|    1.0|     NV|20591.0|  32.0|    1.0|  1.0|20160430|     SYD| null|      G|      O|   null|      M| 1984.0|10292016|     F|  null|     VA|9.495562283E10|00007|      B1|\n",
      "|5748519.0|2016.0|   4.0| 245.0| 438.0|    LOS|20574.0|    1.0|     WA|20582.0|  29.0|    1.0|  1.0|20160430|     SYD| null|      G|      O|   null|      M| 1987.0|10292016|     M|  null|     DL|9.495640653E10|00040|      B1|\n",
      "|5748520.0|2016.0|   4.0| 245.0| 438.0|    LOS|20574.0|    1.0|     WA|20588.0|  29.0|    1.0|  1.0|20160430|     SYD| null|      G|      O|   null|      M| 1987.0|10292016|     F|  null|     DL|9.495645143E10|00040|      B1|\n",
      "|5748521.0|2016.0|   4.0| 245.0| 438.0|    LOS|20574.0|    1.0|     WA|20588.0|  28.0|    1.0|  1.0|20160430|     SYD| null|      G|      O|   null|      M| 1988.0|10292016|     M|  null|     DL|9.495638813E10|00040|      B1|\n",
      "|5748522.0|2016.0|   4.0| 245.0| 464.0|    HHW|20574.0|    1.0|     HI|20579.0|  57.0|    2.0|  1.0|20160430|     ACK| null|      G|      O|   null|      M| 1959.0|10292016|     M|  null|     NZ|9.498180283E10|00010|      B2|\n",
      "|5748523.0|2016.0|   4.0| 245.0| 464.0|    HHW|20574.0|    1.0|     HI|20586.0|  66.0|    2.0|  1.0|20160430|     ACK| null|      G|      O|   null|      M| 1950.0|10292016|     F|  null|     NZ|9.497968993E10|00010|      B2|\n",
      "|5748524.0|2016.0|   4.0| 245.0| 464.0|    HHW|20574.0|    1.0|     HI|20586.0|  41.0|    2.0|  1.0|20160430|     ACK| null|      G|      O|   null|      M| 1975.0|10292016|     F|  null|     NZ|9.497974673E10|00010|      B2|\n",
      "|5748525.0|2016.0|   4.0| 245.0| 464.0|    HOU|20574.0|    1.0|     FL|20581.0|  27.0|    2.0|  1.0|20160430|     ACK| null|      G|      O|   null|      M| 1989.0|10292016|     M|  null|     NZ|9.497324663E10|00028|      B2|\n",
      "|5748526.0|2016.0|   4.0| 245.0| 464.0|    LOS|20574.0|    1.0|     CA|20581.0|  26.0|    2.0|  1.0|20160430|     ACK| null|      G|      O|   null|      M| 1990.0|10292016|     F|  null|     NZ|9.501354793E10|00002|      B2|\n",
      "+---------+------+------+------+------+-------+-------+-------+-------+-------+------+-------+-----+--------+--------+-----+-------+-------+-------+-------+-------+--------+------+------+-------+--------------+-----+--------+\n",
      "only showing top 10 rows\n",
      "\n"
     ]
    }
   ],
   "source": [
    "immigration_data_sample.show(10)"
   ]
  },
  {
   "cell_type": "code",
   "execution_count": 30,
   "metadata": {
    "editable": true
   },
   "outputs": [
    {
     "name": "stdout",
     "output_type": "stream",
     "text": [
      "+---------+------+------+------+------+-------+-------+-------+-------+-------+------+-------+-----+-------+-------+------+------+-------+--------------+-----+--------+\n",
      "|    cicid| i94yr|i94mon|i94cit|i94res|i94port|arrdate|i94mode|i94addr|depdate|i94bir|i94visa|count|matflag|biryear|gender|insnum|airline|        admnum|fltno|visatype|\n",
      "+---------+------+------+------+------+-------+-------+-------+-------+-------+------+-------+-----+-------+-------+------+------+-------+--------------+-----+--------+\n",
      "|5748517.0|2016.0|   4.0| 245.0| 438.0|    LOS|20574.0|    1.0|     CA|20582.0|  40.0|    1.0|  1.0|      M| 1976.0|     F|  null|     QF|9.495387003E10|00011|      B1|\n",
      "|5748518.0|2016.0|   4.0| 245.0| 438.0|    LOS|20574.0|    1.0|     NV|20591.0|  32.0|    1.0|  1.0|      M| 1984.0|     F|  null|     VA|9.495562283E10|00007|      B1|\n",
      "|5748519.0|2016.0|   4.0| 245.0| 438.0|    LOS|20574.0|    1.0|     WA|20582.0|  29.0|    1.0|  1.0|      M| 1987.0|     M|  null|     DL|9.495640653E10|00040|      B1|\n",
      "|5748520.0|2016.0|   4.0| 245.0| 438.0|    LOS|20574.0|    1.0|     WA|20588.0|  29.0|    1.0|  1.0|      M| 1987.0|     F|  null|     DL|9.495645143E10|00040|      B1|\n",
      "|5748521.0|2016.0|   4.0| 245.0| 438.0|    LOS|20574.0|    1.0|     WA|20588.0|  28.0|    1.0|  1.0|      M| 1988.0|     M|  null|     DL|9.495638813E10|00040|      B1|\n",
      "|5748522.0|2016.0|   4.0| 245.0| 464.0|    HHW|20574.0|    1.0|     HI|20579.0|  57.0|    2.0|  1.0|      M| 1959.0|     M|  null|     NZ|9.498180283E10|00010|      B2|\n",
      "|5748523.0|2016.0|   4.0| 245.0| 464.0|    HHW|20574.0|    1.0|     HI|20586.0|  66.0|    2.0|  1.0|      M| 1950.0|     F|  null|     NZ|9.497968993E10|00010|      B2|\n",
      "|5748524.0|2016.0|   4.0| 245.0| 464.0|    HHW|20574.0|    1.0|     HI|20586.0|  41.0|    2.0|  1.0|      M| 1975.0|     F|  null|     NZ|9.497974673E10|00010|      B2|\n",
      "|5748525.0|2016.0|   4.0| 245.0| 464.0|    HOU|20574.0|    1.0|     FL|20581.0|  27.0|    2.0|  1.0|      M| 1989.0|     M|  null|     NZ|9.497324663E10|00028|      B2|\n",
      "|5748526.0|2016.0|   4.0| 245.0| 464.0|    LOS|20574.0|    1.0|     CA|20581.0|  26.0|    2.0|  1.0|      M| 1990.0|     F|  null|     NZ|9.501354793E10|00002|      B2|\n",
      "|5748527.0|2016.0|   4.0| 245.0| 504.0|    NEW|20574.0|    1.0|     MA|20576.0|  44.0|    2.0|  1.0|      M| 1972.0|     M|  null|     UA|9.493828593E10|01215|      B2|\n",
      "|5748528.0|2016.0|   4.0| 245.0| 504.0|    LOS|20574.0|    1.0|   null|20575.0|  39.0|    2.0|  1.0|      M| 1977.0|     M|  null|     CM|9.501810463E10|00472|      B2|\n",
      "|5748529.0|2016.0|   4.0| 245.0| 504.0|    WAS|20574.0|    1.0|     VA|20596.0|  38.0|    2.0|  1.0|      M| 1978.0|     M|  null|     CM|9.492489983E10|00488|      B2|\n",
      "|5748530.0|2016.0|   4.0| 245.0| 504.0|    LOS|20574.0|    1.0|     CA|20577.0|  56.0|    2.0|  1.0|      M| 1960.0|     F|  null|     CM|9.492648103E10|00302|      B2|\n",
      "|5748531.0|2016.0|   4.0| 245.0| 504.0|    LOS|20574.0|    1.0|     CA|20577.0|  38.0|    2.0|  1.0|      M| 1978.0|     M|  null|     CM|9.492629303E10|00302|      B2|\n",
      "|5748532.0|2016.0|   4.0| 245.0| 504.0|    MIA|20574.0|    1.0|     FL|20581.0|  53.0|    2.0|  1.0|      M| 1963.0|     F|  null|     CM|9.500640513E10|00430|      B2|\n",
      "|5748534.0|2016.0|   4.0| 245.0| 528.0|    SFR|20574.0|    1.0|     CA|   null|  84.0|    2.0|  1.0|   null| 1932.0|     F|  null|     CX|9.492476223E10|00872|      B2|\n",
      "|5748876.0|2016.0|   4.0| 245.0| 582.0|    HOU|20574.0|    1.0|     TX|20583.0|  43.0|    1.0|  1.0|      M| 1973.0|     M|  null|     UA|9.499463063E10|05574|      B1|\n",
      "|5748877.0|2016.0|   4.0| 245.0| 582.0|    HOU|20574.0|    1.0|     TX|20583.0|  30.0|    1.0|  1.0|      M| 1986.0|     F|  null|     UA|9.499447663E10|05574|      B1|\n",
      "|5748881.0|2016.0|   4.0| 245.0| 582.0|    LOS|20574.0|    1.0|     CA|20575.0|  34.0|    2.0|  1.0|      M| 1982.0|     M|  null|     AM|9.496770903E10|00646|      B2|\n",
      "+---------+------+------+------+------+-------+-------+-------+-------+-------+------+-------+-----+-------+-------+------+------+-------+--------------+-----+--------+\n",
      "only showing top 20 rows\n",
      "\n"
     ]
    }
   ],
   "source": [
    "# Preliminary removal of empty first field and fields where CIC does not use\n",
    "immigration_data_sample.select(\"cicid\",\"i94yr\",\"i94mon\",\"i94cit\",\"i94res\",\"i94port\",\"arrdate\",\"i94mode\",\"i94addr\",\"depdate\" \\\n",
    "                               ,\"i94bir\",\"i94visa\",\"count\",\"matflag\",\"biryear\",\"gender\",\"insnum\",\"airline\",\"admnum\" \\\n",
    "                               , \"fltno\", \"visatype\").show()\n"
   ]
  },
  {
   "cell_type": "code",
   "execution_count": 31,
   "metadata": {
    "editable": true
   },
   "outputs": [
    {
     "name": "stdout",
     "output_type": "stream",
     "text": [
      "+------+\n",
      "|i94mon|\n",
      "+------+\n",
      "|   4.0|\n",
      "+------+\n",
      "\n",
      "+------+\n",
      "| i94yr|\n",
      "+------+\n",
      "|2016.0|\n",
      "+------+\n",
      "\n"
     ]
    }
   ],
   "source": [
    "immigration_data_sample.select(\"i94mon\").distinct().show()\n",
    "immigration_data_sample.select(\"i94yr\").distinct().show()"
   ]
  },
  {
   "cell_type": "code",
   "execution_count": 32,
   "metadata": {
    "editable": true
   },
   "outputs": [
    {
     "name": "stdout",
     "output_type": "stream",
     "text": [
      "+-------+------+------+-------+-------+-------+-------+-------+------+-------+-----+-------+-------+------+------+-------+--------------+-----+--------+\n",
      "|  cicid|i94cit|i94res|i94port|arrdate|i94mode|i94addr|depdate|i94bir|i94visa|count|matflag|biryear|gender|insnum|airline|        admnum|fltno|visatype|\n",
      "+-------+------+------+-------+-------+-------+-------+-------+------+-------+-----+-------+-------+------+------+-------+--------------+-----+--------+\n",
      "|5748517|   245|   438|    LOS|  20574|      1|     CA|  20582|  40.0|      1|  1.0|      M| 1976.0|     F|  null|     QF|9.495387003E10|00011|      B1|\n",
      "|5748518|   245|   438|    LOS|  20574|      1|     NV|  20591|  32.0|      1|  1.0|      M| 1984.0|     F|  null|     VA|9.495562283E10|00007|      B1|\n",
      "|5748519|   245|   438|    LOS|  20574|      1|     WA|  20582|  29.0|      1|  1.0|      M| 1987.0|     M|  null|     DL|9.495640653E10|00040|      B1|\n",
      "|5748520|   245|   438|    LOS|  20574|      1|     WA|  20588|  29.0|      1|  1.0|      M| 1987.0|     F|  null|     DL|9.495645143E10|00040|      B1|\n",
      "|5748521|   245|   438|    LOS|  20574|      1|     WA|  20588|  28.0|      1|  1.0|      M| 1988.0|     M|  null|     DL|9.495638813E10|00040|      B1|\n",
      "|5748522|   245|   464|    HHW|  20574|      1|     HI|  20579|  57.0|      2|  1.0|      M| 1959.0|     M|  null|     NZ|9.498180283E10|00010|      B2|\n",
      "|5748523|   245|   464|    HHW|  20574|      1|     HI|  20586|  66.0|      2|  1.0|      M| 1950.0|     F|  null|     NZ|9.497968993E10|00010|      B2|\n",
      "|5748524|   245|   464|    HHW|  20574|      1|     HI|  20586|  41.0|      2|  1.0|      M| 1975.0|     F|  null|     NZ|9.497974673E10|00010|      B2|\n",
      "|5748525|   245|   464|    HOU|  20574|      1|     FL|  20581|  27.0|      2|  1.0|      M| 1989.0|     M|  null|     NZ|9.497324663E10|00028|      B2|\n",
      "|5748526|   245|   464|    LOS|  20574|      1|     CA|  20581|  26.0|      2|  1.0|      M| 1990.0|     F|  null|     NZ|9.501354793E10|00002|      B2|\n",
      "|5748527|   245|   504|    NEW|  20574|      1|     MA|  20576|  44.0|      2|  1.0|      M| 1972.0|     M|  null|     UA|9.493828593E10|01215|      B2|\n",
      "|5748528|   245|   504|    LOS|  20574|      1|   null|  20575|  39.0|      2|  1.0|      M| 1977.0|     M|  null|     CM|9.501810463E10|00472|      B2|\n",
      "|5748529|   245|   504|    WAS|  20574|      1|     VA|  20596|  38.0|      2|  1.0|      M| 1978.0|     M|  null|     CM|9.492489983E10|00488|      B2|\n",
      "|5748530|   245|   504|    LOS|  20574|      1|     CA|  20577|  56.0|      2|  1.0|      M| 1960.0|     F|  null|     CM|9.492648103E10|00302|      B2|\n",
      "|5748531|   245|   504|    LOS|  20574|      1|     CA|  20577|  38.0|      2|  1.0|      M| 1978.0|     M|  null|     CM|9.492629303E10|00302|      B2|\n",
      "|5748532|   245|   504|    MIA|  20574|      1|     FL|  20581|  53.0|      2|  1.0|      M| 1963.0|     F|  null|     CM|9.500640513E10|00430|      B2|\n",
      "|5748534|   245|   528|    SFR|  20574|      1|     CA|   null|  84.0|      2|  1.0|   null| 1932.0|     F|  null|     CX|9.492476223E10|00872|      B2|\n",
      "|5748876|   245|   582|    HOU|  20574|      1|     TX|  20583|  43.0|      1|  1.0|      M| 1973.0|     M|  null|     UA|9.499463063E10|05574|      B1|\n",
      "|5748877|   245|   582|    HOU|  20574|      1|     TX|  20583|  30.0|      1|  1.0|      M| 1986.0|     F|  null|     UA|9.499447663E10|05574|      B1|\n",
      "|5748881|   245|   582|    LOS|  20574|      1|     CA|  20575|  34.0|      2|  1.0|      M| 1982.0|     M|  null|     AM|9.496770903E10|00646|      B2|\n",
      "+-------+------+------+-------+-------+-------+-------+-------+------+-------+-----+-------+-------+------+------+-------+--------------+-----+--------+\n",
      "only showing top 20 rows\n",
      "\n"
     ]
    }
   ],
   "source": [
    "# remove year and month as they are duplicated throughout since this is snapshot data at this point in time\n",
    "immigration_data_sample = immigration_data_sample.select(col(\"cicid\").cast(IntegerType()),col(\"i94cit\").cast(IntegerType()),col(\"i94res\").cast(IntegerType()),\"i94port\"\\\n",
    "                               ,col(\"arrdate\").cast(IntegerType()),col(\"i94mode\").cast(IntegerType()),\"i94addr\",col(\"depdate\").cast(IntegerType()) \\\n",
    "                               ,\"i94bir\",col(\"i94visa\").cast(IntegerType()),\"count\",\"matflag\",\"biryear\",\"gender\",\"insnum\",\"airline\",\"admnum\" \\\n",
    "                               , \"fltno\", \"visatype\")\n",
    "\n",
    "immigration_data_sample.show()"
   ]
  },
  {
   "cell_type": "code",
   "execution_count": 33,
   "metadata": {
    "editable": true
   },
   "outputs": [
    {
     "data": {
      "text/plain": [
       "(3096313, 3096313)"
      ]
     },
     "execution_count": 33,
     "metadata": {},
     "output_type": "execute_result"
    }
   ],
   "source": [
    "# Check for duplicates after removing columns\n",
    "immigration_data_sample.count(), immigration_data_sample.dropDuplicates().count()"
   ]
  },
  {
   "cell_type": "code",
   "execution_count": 34,
   "metadata": {
    "editable": true
   },
   "outputs": [
    {
     "name": "stdout",
     "output_type": "stream",
     "text": [
      "+-------+------+------+-------+-------+-------+-------+-------+------+-------+-----+-------+-------+------+------+-------+--------------+-----+--------+\n",
      "|  cicid|i94cit|i94res|i94port|arrdate|i94mode|i94addr|depdate|i94bir|i94visa|count|matflag|biryear|gender|insnum|airline|        admnum|fltno|visatype|\n",
      "+-------+------+------+-------+-------+-------+-------+-------+------+-------+-----+-------+-------+------+------+-------+--------------+-----+--------+\n",
      "|5748517|   245|   438|    LOS|  20574|      1|     CA|  20582|  40.0|      1|  1.0|      M| 1976.0|     F|  null|     QF|9.495387003E10|00011|      B1|\n",
      "|5748518|   245|   438|    LOS|  20574|      1|     NV|  20591|  32.0|      1|  1.0|      M| 1984.0|     F|  null|     VA|9.495562283E10|00007|      B1|\n",
      "|5748519|   245|   438|    LOS|  20574|      1|     WA|  20582|  29.0|      1|  1.0|      M| 1987.0|     M|  null|     DL|9.495640653E10|00040|      B1|\n",
      "|5748520|   245|   438|    LOS|  20574|      1|     WA|  20588|  29.0|      1|  1.0|      M| 1987.0|     F|  null|     DL|9.495645143E10|00040|      B1|\n",
      "|5748521|   245|   438|    LOS|  20574|      1|     WA|  20588|  28.0|      1|  1.0|      M| 1988.0|     M|  null|     DL|9.495638813E10|00040|      B1|\n",
      "|5748522|   245|   464|    HHW|  20574|      1|     HI|  20579|  57.0|      2|  1.0|      M| 1959.0|     M|  null|     NZ|9.498180283E10|00010|      B2|\n",
      "|5748523|   245|   464|    HHW|  20574|      1|     HI|  20586|  66.0|      2|  1.0|      M| 1950.0|     F|  null|     NZ|9.497968993E10|00010|      B2|\n",
      "|5748524|   245|   464|    HHW|  20574|      1|     HI|  20586|  41.0|      2|  1.0|      M| 1975.0|     F|  null|     NZ|9.497974673E10|00010|      B2|\n",
      "|5748525|   245|   464|    HOU|  20574|      1|     FL|  20581|  27.0|      2|  1.0|      M| 1989.0|     M|  null|     NZ|9.497324663E10|00028|      B2|\n",
      "|5748526|   245|   464|    LOS|  20574|      1|     CA|  20581|  26.0|      2|  1.0|      M| 1990.0|     F|  null|     NZ|9.501354793E10|00002|      B2|\n",
      "|5748527|   245|   504|    NEW|  20574|      1|     MA|  20576|  44.0|      2|  1.0|      M| 1972.0|     M|  null|     UA|9.493828593E10|01215|      B2|\n",
      "|5748528|   245|   504|    LOS|  20574|      1|   null|  20575|  39.0|      2|  1.0|      M| 1977.0|     M|  null|     CM|9.501810463E10|00472|      B2|\n",
      "|5748529|   245|   504|    WAS|  20574|      1|     VA|  20596|  38.0|      2|  1.0|      M| 1978.0|     M|  null|     CM|9.492489983E10|00488|      B2|\n",
      "|5748530|   245|   504|    LOS|  20574|      1|     CA|  20577|  56.0|      2|  1.0|      M| 1960.0|     F|  null|     CM|9.492648103E10|00302|      B2|\n",
      "|5748531|   245|   504|    LOS|  20574|      1|     CA|  20577|  38.0|      2|  1.0|      M| 1978.0|     M|  null|     CM|9.492629303E10|00302|      B2|\n",
      "|5748532|   245|   504|    MIA|  20574|      1|     FL|  20581|  53.0|      2|  1.0|      M| 1963.0|     F|  null|     CM|9.500640513E10|00430|      B2|\n",
      "|5748534|   245|   528|    SFR|  20574|      1|     CA|   null|  84.0|      2|  1.0|   null| 1932.0|     F|  null|     CX|9.492476223E10|00872|      B2|\n",
      "|5748876|   245|   582|    HOU|  20574|      1|     TX|  20583|  43.0|      1|  1.0|      M| 1973.0|     M|  null|     UA|9.499463063E10|05574|      B1|\n",
      "|5748877|   245|   582|    HOU|  20574|      1|     TX|  20583|  30.0|      1|  1.0|      M| 1986.0|     F|  null|     UA|9.499447663E10|05574|      B1|\n",
      "|5748881|   245|   582|    LOS|  20574|      1|     CA|  20575|  34.0|      2|  1.0|      M| 1982.0|     M|  null|     AM|9.496770903E10|00646|      B2|\n",
      "+-------+------+------+-------+-------+-------+-------+-------+------+-------+-----+-------+-------+------+------+-------+--------------+-----+--------+\n",
      "only showing top 20 rows\n",
      "\n"
     ]
    }
   ],
   "source": [
    "immigration_data_sample.show()\n"
   ]
  },
  {
   "cell_type": "raw",
   "metadata": {
    "editable": true
   },
   "source": [
    "immigration_data_sample.columns"
   ]
  },
  {
   "cell_type": "code",
   "execution_count": 35,
   "metadata": {
    "editable": true
   },
   "outputs": [
    {
     "name": "stdout",
     "output_type": "stream",
     "text": [
      "+---------------+----------+--------------+----------+---------------+-----------------+----------------+--------+------------+------------------+-------+------+------+--------+-------+\n",
      "|           city|state_code|         state|median_age|male_population|female_population|total_population|veterans|foreign_born|avg_household_size|natives| asian| black|hispanic|  white|\n",
      "+---------------+----------+--------------+----------+---------------+-----------------+----------------+--------+------------+------------------+-------+------+------+--------+-------+\n",
      "|   Johnson City|        TN|     Tennessee|      38.2|          31019|            34350|           65369|    5038|        2878|              2.18|    400|  1877|  6016|    1114|  59147|\n",
      "|   San Clemente|        CA|    California|      45.2|          34076|            31456|           65532|    3970|        8109|              2.64|   null|  4296|   251|   10421|  58849|\n",
      "|   Redwood City|        CA|    California|      37.1|          42676|            42624|           85300|    2430|       27652|              2.64|    664| 14873|  2758|   29011|  51019|\n",
      "|     Fort Myers|        FL|       Florida|      37.3|          36850|            37165|           74015|    4312|       15365|              2.45|   null|  3519| 17298|   17866|  50169|\n",
      "|         Caguas|        PR|   Puerto Rico|      40.4|          34743|            42265|           77008|    null|        null|              null|    624|  null|  null|   76349|   null|\n",
      "|West Palm Beach|        FL|       Florida|      39.6|          49262|            57520|          106782|    4917|       30675|              2.53|    406|  3191| 39226|   26132|  60648|\n",
      "|      San Diego|        CA|    California|      34.5|         693826|           701081|         1394907|   92489|      373842|              2.73|  16496|267222|111650|  425414| 949388|\n",
      "|         German|        MD|      Maryland|      34.9|          41115|            43007|           84122|    2443|       27877|              2.95|   1232| 15921| 22273|   18202|  43330|\n",
      "|          Pharr|        TX|         Texas|      26.9|          35242|            41293|           76535|    1376|       25532|              3.67|   null|  null|   204|   72995|  73694|\n",
      "|      Harlingen|        TX|         Texas|      30.1|          32404|            33365|           65769|    2761|       10391|               3.0|   null|  2166|  null|   51727|  61844|\n",
      "|     Palm Coast|        FL|       Florida|      48.8|          39489|            42632|           82121|    7950|        9084|              2.76|    700|  2479| 10786|    8706|  67272|\n",
      "|       Bismarck|        ND|  North Dakota|      38.0|          34675|            35565|           70240|    4145|        2064|              2.11|   4040|   930|  1700|    1667|  64719|\n",
      "|      Asheville|        NC|North Carolina|      37.9|          42100|            46407|           88507|    4973|        6630|              2.18|    496|  1939|  9078|    4146|  77979|\n",
      "|    San Antonio|        TX|         Texas|      33.1|         721405|           748419|         1469824|  109089|      208046|              2.93|  20752| 53933|119542|  937607|1240092|\n",
      "|       Hesperia|        CA|    California|      29.4|          43588|            49698|           93286|    3739|       16667|              3.52|   1712|  2131|  4889|   53765|  78718|\n",
      "|     Alexandria|        VA|      Virginia|      36.6|          74989|            78522|          153511|   10635|       44030|               2.2|   1133| 13315| 37168|   25573| 106215|\n",
      "|     Wilmington|        DE|      Delaware|      36.4|          32680|            39277|           71957|    3063|        3336|              2.45|    414|  1193| 44182|    5516|  23743|\n",
      "|       Plymouth|        MN|     Minnesota|      38.4|          39035|            36893|           75928|    4158|        8830|              2.46|    760|  5561|  6938|    3274|  63872|\n",
      "|  Santa Clarita|        CA|    California|      38.1|          90192|            92175|          182367|    8537|       40666|              3.02|   4441| 23168|  9223|   56944| 144949|\n",
      "|       Rockford|        IL|      Illinois|      36.3|          71076|            78270|          149346|    8894|       18323|              2.52|   2301|  5500| 33122|   28923| 107148|\n",
      "+---------------+----------+--------------+----------+---------------+-----------------+----------------+--------+------------+------------------+-------+------+------+--------+-------+\n",
      "only showing top 20 rows\n",
      "\n",
      "+-------+------+------+-------+-------+-------+-------+-------+------+-------+-----+-------+-------+------+------+-------+--------------+-----+--------+---------+----------+------+----------+--------+----------+---------------+-----------------+----------------+--------+------------+------------------+-------+-----+-----+--------+------+\n",
      "|  cicid|i94cit|i94res|i94port|arrdate|i94mode|i94addr|depdate|i94bir|i94visa|count|matflag|biryear|gender|insnum|airline|        admnum|fltno|visatype|port_city|port_state|  city|state_code|   state|median_age|male_population|female_population|total_population|veterans|foreign_born|avg_household_size|natives|asian|black|hispanic| white|\n",
      "+-------+------+------+-------+-------+-------+-------+-------+------+-------+-----+-------+-------+------+------+-------+--------------+-----+--------+---------+----------+------+----------+--------+----------+---------------+-----------------+----------------+--------+------------+------------------+-------+-----+-----+--------+------+\n",
      "|5749151|   251|   251|    DEN|  20574|      1|     CO|  20579|  51.0|      1|  1.0|      M| 1965.0|     M|  null|     BA|9.502233133E10|00219|      B1|   DENVER|        CO|Denver|        CO|Colorado|      34.1|         341137|           341408|          682545|   29363|      113222|              2.33|  14008|32491|72288|  207847|546370|\n",
      "|5749268|   251|   251|    DEN|  20574|      1|     MT|  20582|  46.0|      1|  1.0|      M| 1970.0|     M|  null|     LH|9.500712753E10|00446|      B1|   DENVER|        CO|Denver|        CO|Colorado|      34.1|         341137|           341408|          682545|   29363|      113222|              2.33|  14008|32491|72288|  207847|546370|\n",
      "|5749269|   251|   251|    DEN|  20574|      1|     MT|  20584|  49.0|      1|  1.0|      M| 1967.0|     F|  null|     LH|9.500717153E10|00446|      B1|   DENVER|        CO|Denver|        CO|Colorado|      34.1|         341137|           341408|          682545|   29363|      113222|              2.33|  14008|32491|72288|  207847|546370|\n",
      "|5749270|   251|   251|    DEN|  20574|      1|     MT|  20584|  39.0|      1|  1.0|      M| 1977.0|     M|  null|     LH|9.500725033E10|00446|      B1|   DENVER|        CO|Denver|        CO|Colorado|      34.1|         341137|           341408|          682545|   29363|      113222|              2.33|  14008|32491|72288|  207847|546370|\n",
      "|5749271|   251|   251|    DEN|  20574|      1|     OR|  20579|  37.0|      1|  1.0|      M| 1979.0|     M|  null|     LH|9.500896363E10|00446|      B1|   DENVER|        CO|Denver|        CO|Colorado|      34.1|         341137|           341408|          682545|   29363|      113222|              2.33|  14008|32491|72288|  207847|546370|\n",
      "|5749272|   251|   251|    DEN|  20574|      1|     OR|  20580|  46.0|      1|  1.0|      M| 1970.0|     M|  null|     LH|9.500669763E10|00446|      B1|   DENVER|        CO|Denver|        CO|Colorado|      34.1|         341137|           341408|          682545|   29363|      113222|              2.33|  14008|32491|72288|  207847|546370|\n",
      "|5756095|   260|   260|    DEN|  20574|      1|     DC|   null|  65.0|      2|  1.0|   null| 1951.0|     M|  null|     UA|9.498612673E10|00138|      B2|   DENVER|        CO|Denver|        CO|Colorado|      34.1|         341137|           341408|          682545|   29363|      113222|              2.33|  14008|32491|72288|  207847|546370|\n",
      "|5757540|   261|   261|    DEN|  20574|      1|     CO|  20581|  36.0|      1|  1.0|      M| 1980.0|     M|  null|     LH|9.500597433E10|00446|      B1|   DENVER|        CO|Denver|        CO|Colorado|      34.1|         341137|           341408|          682545|   29363|      113222|              2.33|  14008|32491|72288|  207847|546370|\n",
      "|5757806|   261|   261|    DEN|  20574|      1|     CO|  20580|  59.0|      1|  1.0|      M| 1957.0|     M|  null|     BA|9.502230203E10|00219|      B1|   DENVER|        CO|Denver|        CO|Colorado|      34.1|         341137|           341408|          682545|   29363|      113222|              2.33|  14008|32491|72288|  207847|546370|\n",
      "|5757807|   261|   261|    DEN|  20574|      1|     CO|  20588|  35.0|      1|  1.0|      M| 1981.0|     M|  null|     LH|9.500699733E10|00446|      B1|   DENVER|        CO|Denver|        CO|Colorado|      34.1|         341137|           341408|          682545|   29363|      113222|              2.33|  14008|32491|72288|  207847|546370|\n",
      "+-------+------+------+-------+-------+-------+-------+-------+------+-------+-----+-------+-------+------+------+-------+--------------+-----+--------+---------+----------+------+----------+--------+----------+---------------+-----------------+----------------+--------+------------+------------------+-------+-----+-----+--------+------+\n",
      "only showing top 10 rows\n",
      "\n"
     ]
    }
   ],
   "source": [
    "# join immigration_data_sample && port_df\n",
    "i94_imm_df = immigration_data_sample.join(port_df, immigration_data_sample.i94port == port_df.port_id,how='left').drop(col(\"port_id\"))\n",
    "\n",
    "us_df.show()\n",
    "\n",
    "## join immigration_data_sample && us_df (set us_df city to upper to match immigration df)\n",
    "i94_imm_df=i94_imm_df.join(us_df, (i94_imm_df.port_city == upper(us_df.city)) & (i94_imm_df.port_state == us_df.state_code), how='left')\n",
    "i94_imm_df.where(col(\"city\").isNotNull()).show(10)"
   ]
  },
  {
   "cell_type": "code",
   "execution_count": 36,
   "metadata": {
    "editable": true
   },
   "outputs": [],
   "source": [
    "# Note that from above, some demographic data may be missing. This is due to the values not existing in the I94 Labels Description file\n",
    "# Drop city and state code for consistency as we are using the values from the dimension table port_df\n",
    "i94_imm_df=i94_imm_df.drop(\"city\", \"state_code\")"
   ]
  },
  {
   "cell_type": "code",
   "execution_count": 37,
   "metadata": {
    "editable": true
   },
   "outputs": [
    {
     "name": "stdout",
     "output_type": "stream",
     "text": [
      "+-------+------+------+-------+-------+-------+-------+-------+------+-------+-----+-------+-------+------+------+-------+--------------+-----+--------+---------+----------+--------+----------+---------------+-----------------+----------------+--------+------------+------------------+-------+-----+-----+--------+------+-----------+-----------+\n",
      "|  cicid|i94cit|i94res|i94port|arrdate|i94mode|i94addr|depdate|i94bir|i94visa|count|matflag|biryear|gender|insnum|airline|        admnum|fltno|visatype|port_city|port_state|   state|median_age|male_population|female_population|total_population|veterans|foreign_born|avg_household_size|natives|asian|black|hispanic| white|us_arr_date|us_dep_date|\n",
      "+-------+------+------+-------+-------+-------+-------+-------+------+-------+-----+-------+-------+------+------+-------+--------------+-----+--------+---------+----------+--------+----------+---------------+-----------------+----------------+--------+------------+------------------+-------+-----+-----+--------+------+-----------+-----------+\n",
      "|5749151|   251|   251|    DEN|  20574|      1|     CO|  20579|  51.0|      1|  1.0|      M| 1965.0|     M|  null|     BA|9.502233133E10|00219|      B1|   DENVER|        CO|Colorado|      34.1|         341137|           341408|          682545|   29363|      113222|              2.33|  14008|32491|72288|  207847|546370| 2016-04-30| 2016-05-05|\n",
      "|5749268|   251|   251|    DEN|  20574|      1|     MT|  20582|  46.0|      1|  1.0|      M| 1970.0|     M|  null|     LH|9.500712753E10|00446|      B1|   DENVER|        CO|Colorado|      34.1|         341137|           341408|          682545|   29363|      113222|              2.33|  14008|32491|72288|  207847|546370| 2016-04-30| 2016-05-08|\n",
      "|5749269|   251|   251|    DEN|  20574|      1|     MT|  20584|  49.0|      1|  1.0|      M| 1967.0|     F|  null|     LH|9.500717153E10|00446|      B1|   DENVER|        CO|Colorado|      34.1|         341137|           341408|          682545|   29363|      113222|              2.33|  14008|32491|72288|  207847|546370| 2016-04-30| 2016-05-10|\n",
      "|5749270|   251|   251|    DEN|  20574|      1|     MT|  20584|  39.0|      1|  1.0|      M| 1977.0|     M|  null|     LH|9.500725033E10|00446|      B1|   DENVER|        CO|Colorado|      34.1|         341137|           341408|          682545|   29363|      113222|              2.33|  14008|32491|72288|  207847|546370| 2016-04-30| 2016-05-10|\n",
      "|5749271|   251|   251|    DEN|  20574|      1|     OR|  20579|  37.0|      1|  1.0|      M| 1979.0|     M|  null|     LH|9.500896363E10|00446|      B1|   DENVER|        CO|Colorado|      34.1|         341137|           341408|          682545|   29363|      113222|              2.33|  14008|32491|72288|  207847|546370| 2016-04-30| 2016-05-05|\n",
      "|5749272|   251|   251|    DEN|  20574|      1|     OR|  20580|  46.0|      1|  1.0|      M| 1970.0|     M|  null|     LH|9.500669763E10|00446|      B1|   DENVER|        CO|Colorado|      34.1|         341137|           341408|          682545|   29363|      113222|              2.33|  14008|32491|72288|  207847|546370| 2016-04-30| 2016-05-06|\n",
      "|5756095|   260|   260|    DEN|  20574|      1|     DC|   null|  65.0|      2|  1.0|   null| 1951.0|     M|  null|     UA|9.498612673E10|00138|      B2|   DENVER|        CO|Colorado|      34.1|         341137|           341408|          682545|   29363|      113222|              2.33|  14008|32491|72288|  207847|546370| 2016-04-30|       null|\n",
      "|5757540|   261|   261|    DEN|  20574|      1|     CO|  20581|  36.0|      1|  1.0|      M| 1980.0|     M|  null|     LH|9.500597433E10|00446|      B1|   DENVER|        CO|Colorado|      34.1|         341137|           341408|          682545|   29363|      113222|              2.33|  14008|32491|72288|  207847|546370| 2016-04-30| 2016-05-07|\n",
      "|5757806|   261|   261|    DEN|  20574|      1|     CO|  20580|  59.0|      1|  1.0|      M| 1957.0|     M|  null|     BA|9.502230203E10|00219|      B1|   DENVER|        CO|Colorado|      34.1|         341137|           341408|          682545|   29363|      113222|              2.33|  14008|32491|72288|  207847|546370| 2016-04-30| 2016-05-06|\n",
      "|5757807|   261|   261|    DEN|  20574|      1|     CO|  20588|  35.0|      1|  1.0|      M| 1981.0|     M|  null|     LH|9.500699733E10|00446|      B1|   DENVER|        CO|Colorado|      34.1|         341137|           341408|          682545|   29363|      113222|              2.33|  14008|32491|72288|  207847|546370| 2016-04-30| 2016-05-14|\n",
      "+-------+------+------+-------+-------+-------+-------+-------+------+-------+-----+-------+-------+------+------+-------+--------------+-----+--------+---------+----------+--------+----------+---------------+-----------------+----------------+--------+------------+------------------+-------+-----+-----+--------+------+-----------+-----------+\n",
      "only showing top 10 rows\n",
      "\n"
     ]
    }
   ],
   "source": [
    "# convert SAS date numeric field to generate date table\n",
    "to_date = udf(lambda movement_date: (datetime(1960, 1, 1).date() + timedelta(movement_date)).isoformat() if movement_date else None)\n",
    "i94_imm_df = i94_imm_df.withColumn(\"us_arr_date\", to_date(i94_imm_df.arrdate)) \\\n",
    "                       .withColumn(\"us_dep_date\", to_date(i94_imm_df.depdate))\n",
    "i94_imm_df.where(col(\"state\").isNotNull()).show(10)"
   ]
  },
  {
   "cell_type": "code",
   "execution_count": 38,
   "metadata": {
    "editable": true
   },
   "outputs": [
    {
     "name": "stdout",
     "output_type": "stream",
     "text": [
      "+--------+----------+---+----+-----+----+-------+\n",
      "|date_sas|  date_iso|day|week|month|year|weekday|\n",
      "+--------+----------+---+----+-----+----+-------+\n",
      "|   20555|2016-04-11| 11|  15|    4|2016|      2|\n",
      "|   20545|2016-04-01|  1|  13|    4|2016|      6|\n",
      "|   20574|2016-04-30| 30|  17|    4|2016|      7|\n",
      "|   20550|2016-04-06|  6|  14|    4|2016|      4|\n",
      "|   20570|2016-04-26| 26|  17|    4|2016|      3|\n",
      "|   20556|2016-04-12| 12|  15|    4|2016|      3|\n",
      "|   20561|2016-04-17| 17|  15|    4|2016|      1|\n",
      "|   20549|2016-04-05|  5|  14|    4|2016|      3|\n",
      "|   20571|2016-04-27| 27|  17|    4|2016|      4|\n",
      "|   20547|2016-04-03|  3|  13|    4|2016|      1|\n",
      "|   20548|2016-04-04|  4|  14|    4|2016|      2|\n",
      "|   20553|2016-04-09|  9|  14|    4|2016|      7|\n",
      "|   20560|2016-04-16| 16|  15|    4|2016|      7|\n",
      "|   20569|2016-04-25| 25|  17|    4|2016|      2|\n",
      "|   20546|2016-04-02|  2|  13|    4|2016|      7|\n",
      "|   20573|2016-04-29| 29|  17|    4|2016|      6|\n",
      "|   20567|2016-04-23| 23|  16|    4|2016|      7|\n",
      "|   20552|2016-04-08|  8|  14|    4|2016|      6|\n",
      "|   20568|2016-04-24| 24|  16|    4|2016|      1|\n",
      "|   20559|2016-04-15| 15|  15|    4|2016|      6|\n",
      "+--------+----------+---+----+-----+----+-------+\n",
      "only showing top 20 rows\n",
      "\n"
     ]
    }
   ],
   "source": [
    "# extract columns to create time table\n",
    "#year, month, dayofmonth, hour, weekofyear, dayofweek\n",
    "i94_arr_date = i94_imm_df.select(col(\"arrdate\").alias(\"date_sas\"), col(\"us_arr_date\").alias(\"date_iso\")) \\\n",
    "                                    .withColumn('day', dayofmonth('date_iso')) \\\n",
    "                                    .withColumn('week', weekofyear('date_iso')) \\\n",
    "                                    .withColumn('month', month('date_iso')) \\\n",
    "                                    .withColumn('year', year('date_iso')) \\\n",
    "                                    .withColumn('weekday', dayofweek('date_iso')) \\\n",
    "                                    .dropDuplicates()\n",
    "i94_arr_date.show()                          "
   ]
  },
  {
   "cell_type": "code",
   "execution_count": 39,
   "metadata": {
    "editable": true
   },
   "outputs": [
    {
     "name": "stdout",
     "output_type": "stream",
     "text": [
      "+--------+----------+---+----+-----+----+-------+\n",
      "|date_sas|  date_iso|day|week|month|year|weekday|\n",
      "+--------+----------+---+----+-----+----+-------+\n",
      "|   15176|2001-07-20| 20|  29|    7|2001|      6|\n",
      "|   19095|2012-04-12| 12|  15|    4|2012|      5|\n",
      "|   45427|2084-05-16| 16|  20|    5|2084|      3|\n",
      "|   20701|2016-09-04|  4|  35|    9|2016|      1|\n",
      "|   20443|2015-12-21| 21|  52|   12|2015|      2|\n",
      "|   20201|2015-04-23| 23|  17|    4|2015|      5|\n",
      "|   20673|2016-08-07|  7|  31|    8|2016|      1|\n",
      "|   20692|2016-08-26| 26|  34|    8|2016|      6|\n",
      "|   20670|2016-08-04|  4|  31|    8|2016|      5|\n",
      "|   20524|2016-03-11| 11|  10|    3|2016|      6|\n",
      "|   20651|2016-07-16| 16|  28|    7|2016|      7|\n",
      "|   20555|2016-04-11| 11|  15|    4|2016|      2|\n",
      "|   20588|2016-05-14| 14|  19|    5|2016|      7|\n",
      "|   20650|2016-07-15| 15|  28|    7|2016|      6|\n",
      "|   20706|2016-09-09|  9|  36|    9|2016|      6|\n",
      "|   20517|2016-03-04|  4|   9|    3|2016|      6|\n",
      "|   20545|2016-04-01|  1|  13|    4|2016|      6|\n",
      "|   20703|2016-09-06|  6|  36|    9|2016|      3|\n",
      "|   20597|2016-05-23| 23|  21|    5|2016|      2|\n",
      "|   20579|2016-05-05|  5|  18|    5|2016|      5|\n",
      "+--------+----------+---+----+-----+----+-------+\n",
      "only showing top 20 rows\n",
      "\n"
     ]
    }
   ],
   "source": [
    "i94_dep_date = i94_imm_df.select(col(\"depdate\").alias(\"date_sas\"), col(\"us_dep_date\").alias(\"date_iso\")) \\\n",
    "                                    .withColumn('day', dayofmonth('date_iso')) \\\n",
    "                                    .withColumn('week', weekofyear('date_iso')) \\\n",
    "                                    .withColumn('month', month('date_iso')) \\\n",
    "                                    .withColumn('year', year('date_iso')) \\\n",
    "                                    .withColumn('weekday', dayofweek('date_iso')) \\\n",
    "                                    .dropDuplicates()\n",
    "i94_dep_date.show()          "
   ]
  },
  {
   "cell_type": "code",
   "execution_count": 40,
   "metadata": {
    "editable": true
   },
   "outputs": [
    {
     "name": "stdout",
     "output_type": "stream",
     "text": [
      "+--------+----------+---+----+-----+----+-------+\n",
      "|date_sas|  date_iso|day|week|month|year|weekday|\n",
      "+--------+----------+---+----+-----+----+-------+\n",
      "|   15176|2001-07-20| 20|  29|    7|2001|      6|\n",
      "|   19095|2012-04-12| 12|  15|    4|2012|      5|\n",
      "|   45427|2084-05-16| 16|  20|    5|2084|      3|\n",
      "|   20701|2016-09-04|  4|  35|    9|2016|      1|\n",
      "|   20443|2015-12-21| 21|  52|   12|2015|      2|\n",
      "|   20201|2015-04-23| 23|  17|    4|2015|      5|\n",
      "|   20673|2016-08-07|  7|  31|    8|2016|      1|\n",
      "|   20692|2016-08-26| 26|  34|    8|2016|      6|\n",
      "|   20670|2016-08-04|  4|  31|    8|2016|      5|\n",
      "|   20524|2016-03-11| 11|  10|    3|2016|      6|\n",
      "+--------+----------+---+----+-----+----+-------+\n",
      "only showing top 10 rows\n",
      "\n"
     ]
    }
   ],
   "source": [
    "i94_dates = i94_arr_date.union(i94_dep_date).dropDuplicates()\n",
    "\n",
    "i94_dates.columns\n",
    "i94_dates.show(10)"
   ]
  },
  {
   "cell_type": "code",
   "execution_count": 41,
   "metadata": {
    "editable": true
   },
   "outputs": [],
   "source": [
    "i94_dates.write.mode(\"overwrite\").partitionBy(\"month\", \"year\").parquet(\"./data/dates.parquet\")"
   ]
  },
  {
   "cell_type": "code",
   "execution_count": 42,
   "metadata": {
    "editable": true
   },
   "outputs": [
    {
     "data": {
      "text/plain": [
       "['cicid',\n",
       " 'i94cit',\n",
       " 'i94res',\n",
       " 'i94port',\n",
       " 'arrdate',\n",
       " 'i94mode',\n",
       " 'i94addr',\n",
       " 'depdate',\n",
       " 'i94bir',\n",
       " 'i94visa',\n",
       " 'count',\n",
       " 'matflag',\n",
       " 'biryear',\n",
       " 'gender',\n",
       " 'insnum',\n",
       " 'airline',\n",
       " 'admnum',\n",
       " 'fltno',\n",
       " 'visatype',\n",
       " 'port_city',\n",
       " 'port_state',\n",
       " 'state',\n",
       " 'median_age',\n",
       " 'male_population',\n",
       " 'female_population',\n",
       " 'total_population',\n",
       " 'veterans',\n",
       " 'foreign_born',\n",
       " 'avg_household_size',\n",
       " 'natives',\n",
       " 'asian',\n",
       " 'black',\n",
       " 'hispanic',\n",
       " 'white']"
      ]
     },
     "execution_count": 42,
     "metadata": {},
     "output_type": "execute_result"
    }
   ],
   "source": [
    "date_columns_to_drop = ['us_arr_date', 'us_dep_date']\n",
    "\n",
    "i94_imm_df = i94_imm_df.drop(*date_columns_to_drop)\n",
    "\n",
    "# withColumn(\"yearTmp\", df.year.cast(IntegerType)) recast integer columns\n",
    "i94_imm_df.columns"
   ]
  },
  {
   "cell_type": "code",
   "execution_count": null,
   "metadata": {
    "editable": true
   },
   "outputs": [],
   "source": [
    "\n"
   ]
  },
  {
   "cell_type": "code",
   "execution_count": null,
   "metadata": {
    "editable": true
   },
   "outputs": [],
   "source": []
  },
  {
   "cell_type": "markdown",
   "metadata": {
    "editable": true
   },
   "source": [
    "### Step 3: Define the Data Model\n",
    "#### 3.1 Conceptual Data Model\n",
    "Map out the conceptual data model and explain why you chose that model\n",
    "\n",
    "![Schema](./Capstone_Diagram.png)\n",
    "\n",
    "The star schema model was implemented and its the most widely used approach to develop dimensional data marts.The fact table of i94_imm is linked to 5 dimension tables: <br>\n",
    "1) dates <br>\n",
    "2) visa <br>\n",
    "3) cit_res <br>\n",
    "4) port <br>\n",
    "5) mode <br>\n",
    "\n",
    "\n",
    "#### 3.2 Mapping Out Data Pipelines\n",
    "List the steps necessary to pipeline the data into the chosen data model <br>\n",
    "1) Extract data <br>\n",
    "2) Clean data (duplicates) <br>\n",
    "3) Transform columns where applicable <br>\n",
    "4) Create dimension tables with cleaned transformed data <br>\n",
    "5) Create fact table <i>i94_imm</i> from cleaned demographic dataframe and cleaned i94 immigration dataframe"
   ]
  },
  {
   "cell_type": "markdown",
   "metadata": {
    "editable": true
   },
   "source": [
    "### Step 4: Run Pipelines to Model the Data \n",
    "#### 4.1 Create the data model\n",
    "Build the data pipelines to create the data model."
   ]
  },
  {
   "cell_type": "code",
   "execution_count": 43,
   "metadata": {
    "editable": true
   },
   "outputs": [],
   "source": [
    "# Write code here\n",
    "\n",
    "# Write to new i94_imm_df to parquet\n",
    "i94_imm_df.write.mode('overwrite').parquet(\"./data/i94_imm.parquet\")"
   ]
  },
  {
   "cell_type": "markdown",
   "metadata": {
    "editable": true
   },
   "source": [
    "#### 4.2 Data Quality Checks\n",
    "Explain the data quality checks you'll perform to ensure the pipeline ran as expected. These could include:\n",
    " * Integrity constraints on the relational database (e.g., unique key, data type, etc.)\n",
    " * Unit tests for the scripts to ensure they are doing the right thing\n",
    " * Source/Count checks to ensure completeness\n",
    " \n",
    "Run Quality Checks"
   ]
  },
  {
   "cell_type": "code",
   "execution_count": 51,
   "metadata": {
    "editable": true
   },
   "outputs": [
    {
     "data": {
      "text/plain": [
       "True"
      ]
     },
     "execution_count": 51,
     "metadata": {},
     "output_type": "execute_result"
    }
   ],
   "source": [
    "# Perform quality checks here\n",
    "# Table not empty check\n",
    "def table_not_empty(dataframe):\n",
    "    return dataframe.count() > 0\n",
    "\n",
    "# Fact table\n",
    "#print(\"i94_imm\")\n",
    "table_not_empty(i94_imm_df)\n",
    "# Dim tables\n",
    "#print(\"dates\")\n",
    "table_not_empty(i94_dates)\n",
    "#print(\"visa\")\n",
    "table_not_empty(visa_df)\n",
    "#print(\"cit_res\")\n",
    "table_not_empty(cit_res_df)\n",
    "#print(\"port\")\n",
    "table_not_empty(port_df)\n",
    "#print(\"mode\")\n",
    "table_not_empty(mode_df)"
   ]
  },
  {
   "cell_type": "markdown",
   "metadata": {
    "editable": true
   },
   "source": [
    "#### 4.3 Data dictionary \n",
    "Create a data dictionary for your data model. For each field, provide a brief description of what the data is and where it came from. You can include the data dictionary in the notebook or in a separate file.\n",
    "<br>\n",
    "<br><b>dates</b>\n",
    "<li>date_sas : identity key. Arrival and departure date of immigration file</li>\n",
    "<li>date_iso : Date format yyyy/MM/dd</li>\n",
    "<li>day : day of the week</li>\n",
    "<li>week : week number</li>\n",
    "<li>month : month</li>\n",
    "<li>year : year</li>\n",
    "<li>weekday : 1 = Monday, 7 = Sunday</li>\n",
    "\n",
    "<br>\n",
    "<br><b>visa</b>\n",
    "<li>visa_id : identity key. Visa number indicating reason of entry</li>\n",
    "<li>visa_type : Reason for entry to US</li>\n",
    "\n",
    "<br>\n",
    "<br><b>cit_res</b>\n",
    "<li>cit_res : identity key. Countries alphabetic code</li>\n",
    "<li>visa_type : Countries name</li>\n",
    "\n",
    "<br>\n",
    "<br><b>port</b>\n",
    "<li>port_id : identity key.Port indicating place of disembarkment</li>\n",
    "<li>port_city : US City</li>\n",
    "<li>port_state : US State</li>\n",
    "\n",
    "<br>\n",
    "<br><b>mode</b>\n",
    "<li>mode_id : identity key.Type of transportation code</li>\n",
    "<li>mode_type : Transportation type</li>\n",
    "\n"
   ]
  },
  {
   "cell_type": "markdown",
   "metadata": {
    "editable": true
   },
   "source": [
    "#### Step 5: Complete Project Write Up\n",
    "* <b>Clearly state the rationale for the choice of tools and technologies for the project.</b>\n",
    "<br>Apache Spark was used to read,transform, clean and load to parquet. This is due to Spark's capabilities for processing big datasets. Information is parquet as we aim to have columnar storage for more efficient storage and processing and allows us to save data on AWS S3. As both Spark and parquet format are supported by Amazon AWS, which allows us to shift our solution to the cloud, these were the optimal choice for the project.\n",
    "* <b>Propose how often the data should be updated and why.</b>\n",
    "<br>Other than the date dimension table, the code values provided by SAS need not be updated unless new code values or new column definitions are created.\n",
    "<br>We have earlier identified that i94 immigration files are monthly. As such,the i94 immigration files as well as the date dimension table would require monthly updates for data accuracy.\n",
    "* <b>Write a description of how you would approach the problem differently under the following scenarios: </b>\n",
    " * <b>The data was increased by 100x. </b>\n",
    " <br>AWS allows easily scaling of resources. When using Spark, we can increase the worker nodes to cater to the increase in data.\n",
    " * <b>The data populates a dashboard that must be updated on a daily basis by 7am every day. </b>\n",
    " <br>Using Apache Airflow, we can schedule DAGs to perform tasks at specific timings, set cut off time and frequencies. After the DAG run is successful, a notification can then be configured to be sent to the dashboard.\n",
    " * <b>The database needed to be accessed by 100+ people. </b>\n",
    " <br>Utilising AWS RDS, we can scale our database needs accordingly. Similarly, having a read replica with R"
   ]
  },
  {
   "cell_type": "code",
   "execution_count": null,
   "metadata": {
    "editable": true
   },
   "outputs": [],
   "source": []
  },
  {
   "cell_type": "code",
   "execution_count": null,
   "metadata": {
    "editable": true
   },
   "outputs": [],
   "source": []
  },
  {
   "cell_type": "code",
   "execution_count": null,
   "metadata": {
    "editable": true
   },
   "outputs": [],
   "source": []
  },
  {
   "cell_type": "code",
   "execution_count": null,
   "metadata": {
    "editable": true
   },
   "outputs": [],
   "source": []
  },
  {
   "cell_type": "code",
   "execution_count": null,
   "metadata": {
    "editable": true
   },
   "outputs": [],
   "source": []
  },
  {
   "cell_type": "code",
   "execution_count": null,
   "metadata": {
    "editable": true
   },
   "outputs": [],
   "source": []
  }
 ],
 "metadata": {
  "kernelspec": {
   "display_name": "Python 3",
   "language": "python",
   "name": "python3"
  },
  "language_info": {
   "codemirror_mode": {
    "name": "ipython",
    "version": 3
   },
   "file_extension": ".py",
   "mimetype": "text/x-python",
   "name": "python",
   "nbconvert_exporter": "python",
   "pygments_lexer": "ipython3",
   "version": "3.6.3"
  }
 },
 "nbformat": 4,
 "nbformat_minor": 4
}
